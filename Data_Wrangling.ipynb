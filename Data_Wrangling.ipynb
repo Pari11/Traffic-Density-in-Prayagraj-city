{
 "cells": [
  {
   "cell_type": "markdown",
   "id": "ed18de90",
   "metadata": {},
   "source": [
    "# Traffic congestion:\n",
    "\n",
    "Traffic congestion constitutes a major challenge that must be addressed in urban environments to improve the quality of life for inhabitants.\n",
    "Traffic congestion is measured based on several parameters such as delay, speed, length of road segments, number of vehicles, etc. Road space occupancy is also considered a measure to determine traffic congestion in a particular area.The road occupancy rate is determined by considering factors such as the number of vehicles, the length of the road segment, the length of the vehicles, and the average space between vehicles on the road. In this study, we aim to predict the road occupancy rate based on the types of vehicles that influence traffic congestion, along with the time of day, by taking into account the key contributing features."
   ]
  },
  {
   "cell_type": "code",
   "execution_count": 16,
   "id": "070bfc6b",
   "metadata": {},
   "outputs": [],
   "source": [
    "##Data Wrangling "
   ]
  },
  {
   "cell_type": "code",
   "execution_count": 2,
   "id": "3abe616d",
   "metadata": {},
   "outputs": [],
   "source": [
    "#Prerequisite python packages \n",
    "import pandas as pd\n",
    "import ast\n",
    "import json"
   ]
  },
  {
   "cell_type": "markdown",
   "id": "bb127405",
   "metadata": {},
   "source": [
    "The json packets are validated and is properly structured and saved as a CSV. Thus the unwanted attributes, duplicates and other corrections are done for further analysis."
   ]
  },
  {
   "cell_type": "code",
   "execution_count": 3,
   "id": "fdb0725d",
   "metadata": {},
   "outputs": [],
   "source": [
    "\n",
    "filename = \"traffic_density.json\"\n",
    "\n",
    "with open(filename, 'r') as file:\n",
    "    json_data = file.read()\n",
    "\n",
    "corrected_json_data = json_data.replace('}{', '},{')\n",
    "\n",
    "if not (corrected_json_data.startswith('[') and corrected_json_data.endswith(']')):\n",
    "    corrected_json_data = '[' + corrected_json_data + ']'\n",
    "\n",
    "json_list = json.loads(corrected_json_data)\n",
    "\n",
    "df = pd.DataFrame(json_list)\n",
    "\n",
    "df.to_csv(\"traffic_density.csv\")\n"
   ]
  },
  {
   "cell_type": "markdown",
   "id": "1d54e22e",
   "metadata": {},
   "source": [
    "The attributes count_car, count_pedestrian, count_cycle, count_truck, count_threewheeler, and count_motorbike, which are nested within the vehicleTypeCount dictionary, are extracted as separate columns in the DataFrame. Subsequently, the vehicleTypeCount dictionary is removed from the DataFrame."
   ]
  },
  {
   "cell_type": "code",
   "execution_count": 19,
   "id": "68947147",
   "metadata": {},
   "outputs": [
    {
     "data": {
      "text/plain": [
       "'filename = \"/home/iudx/pari/python/model/pryagraj_traffic_density/raw_data/traffic_density_train.csv\"\\ndf = pd.read_csv(filename)\\n\\ndef convert_dict_column(dict_str):\\n    return ast.literal_eval(dict_str.replace(\"\\'\", \\'\"\\'))\\n\\n# Apply the function to the vehicleTypeCount column\\ndf[\\'vehicleTypeCount\\'] = df[\\'vehicleTypeCount\\'].apply(convert_dict_column)\\n\\n# Create a new DataFrame by expanding the dictionary into columns\\nvehicle_type_df = df[\\'vehicleTypeCount\\'].apply(pd.Series)\\n\\n# Rename the columns to include the prefix \\'vehicleTypeCount_\\'\\nvehicle_type_df = vehicle_type_df.rename(columns=lambda x: \\'count_\\' + x)\\n\\n# Drop the original vehicleTypeCount column from the original DataFrame\\n#df = df.drop(columns=[\\'vehicleCount\\',\\'id\\'])\\n\\n# Concatenate the original DataFrame with the new DataFrame containing the expanded columns\\ndf = pd.concat([df, vehicle_type_df], axis=1)'"
      ]
     },
     "execution_count": 19,
     "metadata": {},
     "output_type": "execute_result"
    }
   ],
   "source": [
    "filename = \"prayagraj_traffic_density.csv\"\n",
    "df = pd.read_csv(filename)\n",
    "\n",
    "def convert_dict_column(dict_str):\n",
    "    return ast.literal_eval(dict_str.replace(\"'\", '\"'))\n",
    "\n",
    "df['vehicleTypeCount'] = df['vehicleTypeCount'].apply(convert_dict_column)\n",
    "\n",
    "vehicle_type_df = df['vehicleTypeCount'].apply(pd.Series)\n",
    "\n",
    "vehicle_type_df = vehicle_type_df.rename(columns=lambda x: 'count_' + x)\n",
    "\n",
    "df = df.drop(columns=['vehicleTypeCount'])\n",
    "\n",
    "df = pd.concat([df, vehicle_type_df], axis=1)\n",
    "\n",
    "df.to_csv('prayagraj_traffic_density.csv')"
   ]
  },
  {
   "cell_type": "markdown",
   "id": "69636960",
   "metadata": {},
   "source": [
    "The dataset is imported and transformed into a DataFrame. The datatype of zoneID is converted to string\n"
   ]
  },
  {
   "cell_type": "code",
   "execution_count": 4,
   "id": "96f883df",
   "metadata": {},
   "outputs": [],
   "source": [
    "filename = \"/home/iudx/pari/python/model/pryagraj_traffic_density/prayagraj_traffic_density.csv\"\n",
    "df = pd.read_csv(filename)"
   ]
  },
  {
   "cell_type": "code",
   "execution_count": 9,
   "id": "b2f43750",
   "metadata": {},
   "outputs": [
    {
     "data": {
      "text/html": [
       "<div>\n",
       "<style scoped>\n",
       "    .dataframe tbody tr th:only-of-type {\n",
       "        vertical-align: middle;\n",
       "    }\n",
       "\n",
       "    .dataframe tbody tr th {\n",
       "        vertical-align: top;\n",
       "    }\n",
       "\n",
       "    .dataframe thead th {\n",
       "        text-align: right;\n",
       "    }\n",
       "</style>\n",
       "<table border=\"1\" class=\"dataframe\">\n",
       "  <thead>\n",
       "    <tr style=\"text-align: right;\">\n",
       "      <th></th>\n",
       "      <th>Unnamed: 0.1</th>\n",
       "      <th>Unnamed: 0</th>\n",
       "      <th>vehicleTypeCount</th>\n",
       "      <th>roadID</th>\n",
       "      <th>id</th>\n",
       "      <th>vehicleCount</th>\n",
       "      <th>roadOccupancy</th>\n",
       "      <th>junctionID</th>\n",
       "      <th>observationDateTime</th>\n",
       "      <th>zoneID</th>\n",
       "      <th>junctionMode</th>\n",
       "      <th>count_car</th>\n",
       "      <th>count_pedestrian</th>\n",
       "      <th>count_cycle</th>\n",
       "      <th>count_truck</th>\n",
       "      <th>count_threewheeler</th>\n",
       "      <th>count_motorbike</th>\n",
       "    </tr>\n",
       "  </thead>\n",
       "  <tbody>\n",
       "    <tr>\n",
       "      <th>0</th>\n",
       "      <td>0</td>\n",
       "      <td>0</td>\n",
       "      <td>{'car': 0, 'pedestrian': 0, 'cycle': 0, 'truck...</td>\n",
       "      <td>L01</td>\n",
       "      <td>a4e1d614-ee93-4e37-9e40-629a3b9e4299</td>\n",
       "      <td>2.0</td>\n",
       "      <td>0.0067</td>\n",
       "      <td>J035</td>\n",
       "      <td>2024-05-10T00:25:00+05:30</td>\n",
       "      <td>1</td>\n",
       "      <td>FLSH</td>\n",
       "      <td>0</td>\n",
       "      <td>0</td>\n",
       "      <td>0</td>\n",
       "      <td>0</td>\n",
       "      <td>0</td>\n",
       "      <td>0</td>\n",
       "    </tr>\n",
       "    <tr>\n",
       "      <th>1</th>\n",
       "      <td>1</td>\n",
       "      <td>1</td>\n",
       "      <td>{'car': 0, 'pedestrian': 0, 'cycle': 0, 'truck...</td>\n",
       "      <td>L02</td>\n",
       "      <td>a4e1d614-ee93-4e37-9e40-629a3b9e4299</td>\n",
       "      <td>5.0</td>\n",
       "      <td>0.0167</td>\n",
       "      <td>J035</td>\n",
       "      <td>2024-05-10T00:25:00+05:30</td>\n",
       "      <td>1</td>\n",
       "      <td>FLSH</td>\n",
       "      <td>0</td>\n",
       "      <td>0</td>\n",
       "      <td>0</td>\n",
       "      <td>0</td>\n",
       "      <td>0</td>\n",
       "      <td>0</td>\n",
       "    </tr>\n",
       "    <tr>\n",
       "      <th>2</th>\n",
       "      <td>2</td>\n",
       "      <td>2</td>\n",
       "      <td>{'car': 0, 'pedestrian': 0, 'cycle': 0, 'truck...</td>\n",
       "      <td>L02</td>\n",
       "      <td>a4e1d614-ee93-4e37-9e40-629a3b9e4299</td>\n",
       "      <td>0.0</td>\n",
       "      <td>0.0000</td>\n",
       "      <td>J035</td>\n",
       "      <td>2024-05-10T00:25:00+05:30</td>\n",
       "      <td>2</td>\n",
       "      <td>FLSH</td>\n",
       "      <td>0</td>\n",
       "      <td>0</td>\n",
       "      <td>0</td>\n",
       "      <td>0</td>\n",
       "      <td>0</td>\n",
       "      <td>0</td>\n",
       "    </tr>\n",
       "    <tr>\n",
       "      <th>3</th>\n",
       "      <td>3</td>\n",
       "      <td>3</td>\n",
       "      <td>{'car': 0, 'pedestrian': 0, 'cycle': 0, 'truck...</td>\n",
       "      <td>L03</td>\n",
       "      <td>a4e1d614-ee93-4e37-9e40-629a3b9e4299</td>\n",
       "      <td>22.0</td>\n",
       "      <td>0.0733</td>\n",
       "      <td>J035</td>\n",
       "      <td>2024-05-10T00:25:00+05:30</td>\n",
       "      <td>1</td>\n",
       "      <td>FLSH</td>\n",
       "      <td>0</td>\n",
       "      <td>0</td>\n",
       "      <td>0</td>\n",
       "      <td>0</td>\n",
       "      <td>0</td>\n",
       "      <td>0</td>\n",
       "    </tr>\n",
       "    <tr>\n",
       "      <th>4</th>\n",
       "      <td>4</td>\n",
       "      <td>4</td>\n",
       "      <td>{'car': 0, 'pedestrian': 0, 'cycle': 0, 'truck...</td>\n",
       "      <td>L03</td>\n",
       "      <td>a4e1d614-ee93-4e37-9e40-629a3b9e4299</td>\n",
       "      <td>43.0</td>\n",
       "      <td>0.1433</td>\n",
       "      <td>J035</td>\n",
       "      <td>2024-05-10T00:25:00+05:30</td>\n",
       "      <td>2</td>\n",
       "      <td>FLSH</td>\n",
       "      <td>0</td>\n",
       "      <td>0</td>\n",
       "      <td>0</td>\n",
       "      <td>0</td>\n",
       "      <td>0</td>\n",
       "      <td>0</td>\n",
       "    </tr>\n",
       "  </tbody>\n",
       "</table>\n",
       "</div>"
      ],
      "text/plain": [
       "   Unnamed: 0.1  Unnamed: 0  \\\n",
       "0             0           0   \n",
       "1             1           1   \n",
       "2             2           2   \n",
       "3             3           3   \n",
       "4             4           4   \n",
       "\n",
       "                                    vehicleTypeCount roadID  \\\n",
       "0  {'car': 0, 'pedestrian': 0, 'cycle': 0, 'truck...    L01   \n",
       "1  {'car': 0, 'pedestrian': 0, 'cycle': 0, 'truck...    L02   \n",
       "2  {'car': 0, 'pedestrian': 0, 'cycle': 0, 'truck...    L02   \n",
       "3  {'car': 0, 'pedestrian': 0, 'cycle': 0, 'truck...    L03   \n",
       "4  {'car': 0, 'pedestrian': 0, 'cycle': 0, 'truck...    L03   \n",
       "\n",
       "                                     id  vehicleCount  roadOccupancy  \\\n",
       "0  a4e1d614-ee93-4e37-9e40-629a3b9e4299           2.0         0.0067   \n",
       "1  a4e1d614-ee93-4e37-9e40-629a3b9e4299           5.0         0.0167   \n",
       "2  a4e1d614-ee93-4e37-9e40-629a3b9e4299           0.0         0.0000   \n",
       "3  a4e1d614-ee93-4e37-9e40-629a3b9e4299          22.0         0.0733   \n",
       "4  a4e1d614-ee93-4e37-9e40-629a3b9e4299          43.0         0.1433   \n",
       "\n",
       "  junctionID        observationDateTime  zoneID junctionMode  count_car  \\\n",
       "0       J035  2024-05-10T00:25:00+05:30       1         FLSH          0   \n",
       "1       J035  2024-05-10T00:25:00+05:30       1         FLSH          0   \n",
       "2       J035  2024-05-10T00:25:00+05:30       2         FLSH          0   \n",
       "3       J035  2024-05-10T00:25:00+05:30       1         FLSH          0   \n",
       "4       J035  2024-05-10T00:25:00+05:30       2         FLSH          0   \n",
       "\n",
       "   count_pedestrian  count_cycle  count_truck  count_threewheeler  \\\n",
       "0                 0            0            0                   0   \n",
       "1                 0            0            0                   0   \n",
       "2                 0            0            0                   0   \n",
       "3                 0            0            0                   0   \n",
       "4                 0            0            0                   0   \n",
       "\n",
       "   count_motorbike  \n",
       "0                0  \n",
       "1                0  \n",
       "2                0  \n",
       "3                0  \n",
       "4                0  "
      ]
     },
     "execution_count": 9,
     "metadata": {},
     "output_type": "execute_result"
    }
   ],
   "source": [
    "df.head()"
   ]
  },
  {
   "cell_type": "code",
   "execution_count": 11,
   "id": "9c9b5e1f",
   "metadata": {},
   "outputs": [
    {
     "name": "stdout",
     "output_type": "stream",
     "text": [
      "<class 'pandas.core.frame.DataFrame'>\n",
      "RangeIndex: 932750 entries, 0 to 932749\n",
      "Data columns (total 17 columns):\n",
      " #   Column               Non-Null Count   Dtype  \n",
      "---  ------               --------------   -----  \n",
      " 0   Unnamed: 0.1         932750 non-null  int64  \n",
      " 1   Unnamed: 0           932750 non-null  int64  \n",
      " 2   vehicleTypeCount     932750 non-null  object \n",
      " 3   roadID               932750 non-null  object \n",
      " 4   id                   932750 non-null  object \n",
      " 5   vehicleCount         932750 non-null  float64\n",
      " 6   roadOccupancy        932750 non-null  float64\n",
      " 7   junctionID           932750 non-null  object \n",
      " 8   observationDateTime  932750 non-null  object \n",
      " 9   zoneID               932750 non-null  int64  \n",
      " 10  junctionMode         932750 non-null  object \n",
      " 11  count_car            932750 non-null  int64  \n",
      " 12  count_pedestrian     932750 non-null  int64  \n",
      " 13  count_cycle          932750 non-null  int64  \n",
      " 14  count_truck          932750 non-null  int64  \n",
      " 15  count_threewheeler   932750 non-null  int64  \n",
      " 16  count_motorbike      932750 non-null  int64  \n",
      "dtypes: float64(2), int64(9), object(6)\n",
      "memory usage: 121.0+ MB\n"
     ]
    }
   ],
   "source": [
    "df.info()"
   ]
  },
  {
   "cell_type": "code",
   "execution_count": 37,
   "id": "d147b05f",
   "metadata": {},
   "outputs": [],
   "source": [
    "df.zoneID = df.zoneID.astype(str)"
   ]
  },
  {
   "cell_type": "code",
   "execution_count": 25,
   "id": "31cdf4cc",
   "metadata": {},
   "outputs": [
    {
     "data": {
      "text/html": [
       "<div>\n",
       "<style scoped>\n",
       "    .dataframe tbody tr th:only-of-type {\n",
       "        vertical-align: middle;\n",
       "    }\n",
       "\n",
       "    .dataframe tbody tr th {\n",
       "        vertical-align: top;\n",
       "    }\n",
       "\n",
       "    .dataframe thead th {\n",
       "        text-align: right;\n",
       "    }\n",
       "</style>\n",
       "<table border=\"1\" class=\"dataframe\">\n",
       "  <thead>\n",
       "    <tr style=\"text-align: right;\">\n",
       "      <th></th>\n",
       "      <th>Unnamed: 0.1</th>\n",
       "      <th>Unnamed: 0</th>\n",
       "      <th>vehicleCount</th>\n",
       "      <th>roadOccupancy</th>\n",
       "      <th>count_car</th>\n",
       "      <th>count_pedestrian</th>\n",
       "      <th>count_cycle</th>\n",
       "      <th>count_truck</th>\n",
       "      <th>count_threewheeler</th>\n",
       "      <th>count_motorbike</th>\n",
       "    </tr>\n",
       "  </thead>\n",
       "  <tbody>\n",
       "    <tr>\n",
       "      <th>count</th>\n",
       "      <td>932750.000000</td>\n",
       "      <td>932750.000000</td>\n",
       "      <td>932750.000000</td>\n",
       "      <td>932750.000000</td>\n",
       "      <td>932750.000000</td>\n",
       "      <td>932750.0</td>\n",
       "      <td>932750.0</td>\n",
       "      <td>932750.000000</td>\n",
       "      <td>932750.0</td>\n",
       "      <td>932750.000000</td>\n",
       "    </tr>\n",
       "    <tr>\n",
       "      <th>mean</th>\n",
       "      <td>466374.500000</td>\n",
       "      <td>466374.500000</td>\n",
       "      <td>27.055381</td>\n",
       "      <td>0.090184</td>\n",
       "      <td>8.482146</td>\n",
       "      <td>0.0</td>\n",
       "      <td>0.0</td>\n",
       "      <td>2.153927</td>\n",
       "      <td>0.0</td>\n",
       "      <td>10.198421</td>\n",
       "    </tr>\n",
       "    <tr>\n",
       "      <th>std</th>\n",
       "      <td>269261.876132</td>\n",
       "      <td>269261.876132</td>\n",
       "      <td>39.796204</td>\n",
       "      <td>0.132654</td>\n",
       "      <td>16.297627</td>\n",
       "      <td>0.0</td>\n",
       "      <td>0.0</td>\n",
       "      <td>5.358592</td>\n",
       "      <td>0.0</td>\n",
       "      <td>20.973155</td>\n",
       "    </tr>\n",
       "    <tr>\n",
       "      <th>min</th>\n",
       "      <td>0.000000</td>\n",
       "      <td>0.000000</td>\n",
       "      <td>0.000000</td>\n",
       "      <td>0.000000</td>\n",
       "      <td>0.000000</td>\n",
       "      <td>0.0</td>\n",
       "      <td>0.0</td>\n",
       "      <td>0.000000</td>\n",
       "      <td>0.0</td>\n",
       "      <td>0.000000</td>\n",
       "    </tr>\n",
       "    <tr>\n",
       "      <th>25%</th>\n",
       "      <td>233187.250000</td>\n",
       "      <td>233187.250000</td>\n",
       "      <td>0.000000</td>\n",
       "      <td>0.000000</td>\n",
       "      <td>0.000000</td>\n",
       "      <td>0.0</td>\n",
       "      <td>0.0</td>\n",
       "      <td>0.000000</td>\n",
       "      <td>0.0</td>\n",
       "      <td>0.000000</td>\n",
       "    </tr>\n",
       "    <tr>\n",
       "      <th>50%</th>\n",
       "      <td>466374.500000</td>\n",
       "      <td>466374.500000</td>\n",
       "      <td>8.000000</td>\n",
       "      <td>0.026700</td>\n",
       "      <td>0.000000</td>\n",
       "      <td>0.0</td>\n",
       "      <td>0.0</td>\n",
       "      <td>0.000000</td>\n",
       "      <td>0.0</td>\n",
       "      <td>0.000000</td>\n",
       "    </tr>\n",
       "    <tr>\n",
       "      <th>75%</th>\n",
       "      <td>699561.750000</td>\n",
       "      <td>699561.750000</td>\n",
       "      <td>40.000000</td>\n",
       "      <td>0.133300</td>\n",
       "      <td>10.000000</td>\n",
       "      <td>0.0</td>\n",
       "      <td>0.0</td>\n",
       "      <td>2.000000</td>\n",
       "      <td>0.0</td>\n",
       "      <td>10.000000</td>\n",
       "    </tr>\n",
       "    <tr>\n",
       "      <th>max</th>\n",
       "      <td>932749.000000</td>\n",
       "      <td>932749.000000</td>\n",
       "      <td>454.000000</td>\n",
       "      <td>1.513300</td>\n",
       "      <td>176.000000</td>\n",
       "      <td>0.0</td>\n",
       "      <td>0.0</td>\n",
       "      <td>120.000000</td>\n",
       "      <td>0.0</td>\n",
       "      <td>301.000000</td>\n",
       "    </tr>\n",
       "  </tbody>\n",
       "</table>\n",
       "</div>"
      ],
      "text/plain": [
       "        Unnamed: 0.1     Unnamed: 0   vehicleCount  roadOccupancy  \\\n",
       "count  932750.000000  932750.000000  932750.000000  932750.000000   \n",
       "mean   466374.500000  466374.500000      27.055381       0.090184   \n",
       "std    269261.876132  269261.876132      39.796204       0.132654   \n",
       "min         0.000000       0.000000       0.000000       0.000000   \n",
       "25%    233187.250000  233187.250000       0.000000       0.000000   \n",
       "50%    466374.500000  466374.500000       8.000000       0.026700   \n",
       "75%    699561.750000  699561.750000      40.000000       0.133300   \n",
       "max    932749.000000  932749.000000     454.000000       1.513300   \n",
       "\n",
       "           count_car  count_pedestrian  count_cycle    count_truck  \\\n",
       "count  932750.000000          932750.0     932750.0  932750.000000   \n",
       "mean        8.482146               0.0          0.0       2.153927   \n",
       "std        16.297627               0.0          0.0       5.358592   \n",
       "min         0.000000               0.0          0.0       0.000000   \n",
       "25%         0.000000               0.0          0.0       0.000000   \n",
       "50%         0.000000               0.0          0.0       0.000000   \n",
       "75%        10.000000               0.0          0.0       2.000000   \n",
       "max       176.000000               0.0          0.0     120.000000   \n",
       "\n",
       "       count_threewheeler  count_motorbike  \n",
       "count            932750.0    932750.000000  \n",
       "mean                  0.0        10.198421  \n",
       "std                   0.0        20.973155  \n",
       "min                   0.0         0.000000  \n",
       "25%                   0.0         0.000000  \n",
       "50%                   0.0         0.000000  \n",
       "75%                   0.0        10.000000  \n",
       "max                   0.0       301.000000  "
      ]
     },
     "execution_count": 25,
     "metadata": {},
     "output_type": "execute_result"
    }
   ],
   "source": [
    "df.describe()"
   ]
  },
  {
   "cell_type": "code",
   "execution_count": 7,
   "id": "36ade23e",
   "metadata": {},
   "outputs": [
    {
     "data": {
      "text/plain": [
       "(932750, 17)"
      ]
     },
     "execution_count": 7,
     "metadata": {},
     "output_type": "execute_result"
    }
   ],
   "source": [
    "df.shape"
   ]
  },
  {
   "cell_type": "code",
   "execution_count": 8,
   "id": "c4bc6568",
   "metadata": {},
   "outputs": [
    {
     "data": {
      "text/plain": [
       "Unnamed: 0.1           0\n",
       "Unnamed: 0             0\n",
       "vehicleTypeCount       0\n",
       "roadID                 0\n",
       "id                     0\n",
       "vehicleCount           0\n",
       "roadOccupancy          0\n",
       "junctionID             0\n",
       "observationDateTime    0\n",
       "zoneID                 0\n",
       "junctionMode           0\n",
       "count_car              0\n",
       "count_pedestrian       0\n",
       "count_cycle            0\n",
       "count_truck            0\n",
       "count_threewheeler     0\n",
       "count_motorbike        0\n",
       "dtype: int64"
      ]
     },
     "execution_count": 8,
     "metadata": {},
     "output_type": "execute_result"
    }
   ],
   "source": [
    "df.isna().sum()"
   ]
  },
  {
   "cell_type": "code",
   "execution_count": 14,
   "id": "5bea63a0",
   "metadata": {},
   "outputs": [
    {
     "data": {
      "text/plain": [
       "['count_pedestrian', 'count_cycle', 'count_threewheeler']"
      ]
     },
     "execution_count": 14,
     "metadata": {},
     "output_type": "execute_result"
    }
   ],
   "source": [
    "#Checking the attributes that contain only zero values which does not make any importance for the analysis.\n",
    "int_float_columns = df.select_dtypes(include=['int64', 'float64'])\n",
    "\n",
    "columns_with_only_zero = [col for col in int_float_columns.columns if (df[col] == 0).all()]\n",
    "columns_with_only_zero"
   ]
  },
  {
   "cell_type": "markdown",
   "id": "ec9b057d",
   "metadata": {},
   "source": [
    "Filtering out unnecessary features from the dataset. Features such as count_threewheeler, count_pedestrian, and count_cycle have zero values due to unavailability of data from the smart city, so these are removed from the dataset as they do not add any value to the model."
   ]
  },
  {
   "cell_type": "code",
   "execution_count": 5,
   "id": "f6f3ad30",
   "metadata": {},
   "outputs": [],
   "source": [
    "df = df.drop(columns = ['vehicleTypeCount','Unnamed: 0.1','Unnamed: 0','id','count_threewheeler','count_pedestrian','count_cycle'])"
   ]
  },
  {
   "cell_type": "markdown",
   "id": "da5ec94a",
   "metadata": {},
   "source": [
    "To check the number of duplicates in the training dataset"
   ]
  },
  {
   "cell_type": "code",
   "execution_count": 40,
   "id": "7204a466",
   "metadata": {},
   "outputs": [
    {
     "data": {
      "text/plain": [
       "165"
      ]
     },
     "execution_count": 40,
     "metadata": {},
     "output_type": "execute_result"
    }
   ],
   "source": [
    "df.duplicated().sum() "
   ]
  },
  {
   "cell_type": "code",
   "execution_count": 6,
   "id": "a1f196b3",
   "metadata": {},
   "outputs": [],
   "source": [
    "#Removing the duplicates\n",
    "df = df.drop_duplicates()"
   ]
  },
  {
   "cell_type": "code",
   "execution_count": 7,
   "id": "dc220c75",
   "metadata": {},
   "outputs": [],
   "source": [
    "# Converting the observationDateTime from string to datetime\n",
    "\n",
    "df['observationDateTime'] = pd.to_datetime(df['observationDateTime'])\n"
   ]
  },
  {
   "cell_type": "markdown",
   "id": "165dd40d",
   "metadata": {},
   "source": [
    "Extracting the hour, day and month from the date time parameter for the analysis"
   ]
  },
  {
   "cell_type": "code",
   "execution_count": 8,
   "id": "d1f6b582",
   "metadata": {},
   "outputs": [],
   "source": [
    "df['hour'] = df['observationDateTime'].dt.hour\n",
    "df['weekday'] = df['observationDateTime'].dt.dayofweek  \n",
    "df['month'] = df['observationDateTime'].dt.month"
   ]
  },
  {
   "cell_type": "code",
   "execution_count": 9,
   "id": "563924ea",
   "metadata": {},
   "outputs": [],
   "source": [
    "# Aggregating the data by hourly intervals\n",
    "df = df.groupby(['roadID', 'junctionID', 'hour', 'weekday', 'month']).agg({\n",
    "    'vehicleCount': 'sum',\n",
    "    'roadOccupancy': 'mean',\n",
    "    'count_car': 'sum',\n",
    "    'count_truck': 'sum',\n",
    "    'count_motorbike': 'sum'\n",
    "}).reset_index()\n"
   ]
  },
  {
   "cell_type": "code",
   "execution_count": null,
   "id": "b025bca1",
   "metadata": {},
   "outputs": [],
   "source": [
    "df.head()"
   ]
  }
 ],
 "metadata": {
  "kernelspec": {
   "display_name": "Python 3 (ipykernel)",
   "language": "python",
   "name": "python3"
  },
  "language_info": {
   "codemirror_mode": {
    "name": "ipython",
    "version": 3
   },
   "file_extension": ".py",
   "mimetype": "text/x-python",
   "name": "python",
   "nbconvert_exporter": "python",
   "pygments_lexer": "ipython3",
   "version": "3.8.10"
  }
 },
 "nbformat": 4,
 "nbformat_minor": 5
}
